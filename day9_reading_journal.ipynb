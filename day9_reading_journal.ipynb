{
 "cells": [
  {
   "cell_type": "markdown",
   "metadata": {},
   "source": [
    "# Day 9 Reading Journal\n",
    "\n",
    "This journal includes several required exercises, but it is meant to encourage active reading more generally.  You should use the journal to take detailed notes, catalog questions, and explore the content from Think Python deeply.\n",
    "\n",
    "Reading: Think Python Chapter 13, 15\n",
    "\n",
    "**Due: Monday, February 22 at 12 noon**\n",
    "\n"
   ]
  },
  {
   "cell_type": "markdown",
   "metadata": {},
   "source": [
    "## [Chapter 13](http://www.greenteapress.com/thinkpython/html/thinkpython014.html)\n",
    "\n",
    "The content in this chapter could be very helpful for the text mining mini project. The reading and all exercises within are optional.\n",
    "\n",
    " - Section 13.3-4 gives a good example of some techniques for working with files, processing text, and doing some simple analysis. \n",
    " - Section 13.8 and the Markov generation in Exercise 8 can be a lot of fun. \n",
    " - Now that you know a wide range of different data structures, Section 13.9 starts to give some guidance for choosing between them\n",
    " - Section 13.10 explains Allen's \"4 r's\" of debugging strategy"
   ]
  },
  {
   "cell_type": "code",
   "execution_count": 6,
   "metadata": {
    "collapsed": false
   },
   "outputs": [
    {
     "ename": "IOError",
     "evalue": "[Errno 2] No such file or directory: 'emma.txt'",
     "output_type": "error",
     "traceback": [
      "\u001b[1;31m---------------------------------------------------------------------------\u001b[0m",
      "\u001b[1;31mIOError\u001b[0m                                   Traceback (most recent call last)",
      "\u001b[1;32m<ipython-input-6-4ffcaa318d6a>\u001b[0m in \u001b[0;36m<module>\u001b[1;34m()\u001b[0m\n\u001b[1;32m----> 1\u001b[1;33m \u001b[0mfp\u001b[0m \u001b[1;33m=\u001b[0m \u001b[0mopen\u001b[0m\u001b[1;33m(\u001b[0m\u001b[1;34m'emma.txt'\u001b[0m\u001b[1;33m)\u001b[0m\u001b[1;33m\u001b[0m\u001b[0m\n\u001b[0m\u001b[0;32m      2\u001b[0m \u001b[1;32mprint\u001b[0m \u001b[0mfp\u001b[0m\u001b[1;33m\u001b[0m\u001b[0m\n\u001b[0;32m      3\u001b[0m \u001b[1;32mfor\u001b[0m \u001b[0mline\u001b[0m \u001b[1;32min\u001b[0m \u001b[0mfp\u001b[0m\u001b[1;33m:\u001b[0m\u001b[1;33m\u001b[0m\u001b[0m\n\u001b[0;32m      4\u001b[0m     \u001b[1;32mprint\u001b[0m \u001b[0mline\u001b[0m\u001b[1;33m\u001b[0m\u001b[0m\n",
      "\u001b[1;31mIOError\u001b[0m: [Errno 2] No such file or directory: 'emma.txt'"
     ]
    }
   ],
   "source": [
    "fp = open('emma.txt')\n",
    "print fp\n",
    "for line in fp:\n",
    "    print line"
   ]
  },
  {
   "cell_type": "markdown",
   "metadata": {},
   "source": [
    "## [Chapter 15](http://www.greenteapress.com/thinkpython/html/thinkpython016.html)\n",
    "\n",
    "This chapter has very few (and short) exercises, and is more focused on starting to think about classes and objects. If you haven't seen user defined types like classes before, you should read closely and try out some examples on your own. For example, you can write a [Python Tutor example like this one](http://pythontutor.com/visualize.html#code=%23+Example+for+visualizing+object+diagrams+by+stepping+through+the+code%0A%0Aclass+Point(object%29%3A%0A++++%22%22%22Represents+a+point+in+2-D+space.%22%22%22%0A++++pass%0A%0Aclass+Rectangle(object%29%3A%0A++++%22%22%22Represents+a+rectangle.+%0A%0A++++attributes%3A+width,+height,+corner.%0A++++%22%22%22%0A++++pass%0A%0A%0A%23+Create+a+point+to+serve+as+origin+for+our+rectangles%0Ap+%3D+Point(%29%0Ap.x+%3D+10%0Ap.y+%3D+15%0A%0A%23+Create+two+rectangles+with+different+size%0Ar1+%3D+Rectangle(%29%0Ar1.corner+%3D+p%0Ar1.width+%3D+100%0Ar1.height+%3D+100%0A%0Ar2+%3D+Rectangle(%29%0Ar2.corner+%3D+p%0Ar2.width+%3D+50%0Ar2.height+%3D+200%0A%0A%23+Change+the+width+of+r2+-+what+(if+any%29+is+the+effect+on+r1+and+why%3F%0Ar2.width+%3D+150%0Aprint+r1.width%0A%0A%23+Change+the+corner+position+of+r1+-+what+(if+any%29+is+the+effect+on+r2+and+why%3F%0Ar1.corner.x+%3D+20%0Aprint+r2.corner.x&mode=display&origin=opt-frontend.js&cumulative=false&heapPrimitives=false&textReferences=false&py=2&rawInputLstJSON=%5B%5D&curInstr=0) to explore object diagrams and aliasing.\n",
    "\n",
    "**Note**: The sequence of operations we use in this chapter to create class instances and assign their attributes, e.g. \n",
    "\n",
    "```\n",
    "box = Rectangle()\n",
    "box.width = 100.0\n",
    "box.height = 200.0\n",
    "box.corner = Point()\n",
    "box.corner.x = 0.0\n",
    "box.corner.y = 0.0\n",
    "```\n",
    "\n",
    "is somewhat clumsy and error prone. Things will get better in the next couple chapters; feel free to look ahead if you'd like a sneak preview.\n"
   ]
  },
  {
   "cell_type": "markdown",
   "metadata": {},
   "source": [
    "**Quick check:** In about one sentence using your own words, what is a class?"
   ]
  },
  {
   "cell_type": "markdown",
   "metadata": {},
   "source": [
    "an object that I make up as opposed to one that comes with python like a string or an integer."
   ]
  },
  {
   "cell_type": "markdown",
   "metadata": {},
   "source": [
    " "
   ]
  },
  {
   "cell_type": "code",
   "execution_count": 7,
   "metadata": {
    "collapsed": false
   },
   "outputs": [
    {
     "name": "stdout",
     "output_type": "stream",
     "text": [
      "(6, 1)\n"
     ]
    }
   ],
   "source": [
    "class Point(object):\n",
    "    '''Represens a point in 2-D space.'''\n",
    "blank = Point()\n",
    "blank.x = 6.0\n",
    "blank.y = 1.0\n",
    "\n",
    "def print_point(p):\n",
    "    '''Print a Point object in human-readable format.'''\n",
    "    print '(%g, %g)' % (p.x, p.y)\n",
    "print_point(blank)\n"
   ]
  },
  {
   "cell_type": "markdown",
   "metadata": {
    "is_question": true,
    "problem": "Exercise 15.1"
   },
   "source": [
    "### Exercise 1  \n",
    "\n",
    "Write a function called `distance_between_points` that takes two `Points` as arguments and returns the distance between them."
   ]
  },
  {
   "cell_type": "code",
   "execution_count": 8,
   "metadata": {
    "collapsed": false,
    "solution": "Exercise 15.1"
   },
   "outputs": [],
   "source": [
    "from math import sqrt\n",
    "class Point(object):\n",
    "    '''Represens a point in 2-D space.'''\n",
    "blank = Point()\n",
    "clank = Point()\n",
    "blank.x = 6.0\n",
    "blank.y = 1.0\n",
    "clank.x = 2.0\n",
    "clank.y = 1.5\n",
    "\n",
    "def distance_between_points(point1, point2):\n",
    "    '''returns the distance between two Points\n",
    "    >>> distance_between_points(blank, blank)\n",
    "    0.0\n",
    "    >>> distance_between_points(blank, clank)\n",
    "    4.03113\n",
    "    >>> distance_between_points(clank, blank) == distance_between_points(blank, clank)\n",
    "    True\n",
    "    '''\n",
    "    \n",
    "    sum_square = (point1.x-point2.x)**2+(point1.y-point2.y)**2\n",
    "    res = sqrt(sum_square)\n",
    "    return round(res, 5) #who needs every single digit?\n",
    "\n",
    "if __name__ == '__main__':\n",
    "    import doctest\n",
    "    doctest.testmod()"
   ]
  },
  {
   "cell_type": "markdown",
   "metadata": {
    "is_question": true,
    "problem": "Exercise 15.2"
   },
   "source": [
    "### Exercise 2  \n",
    "\n",
    "Write a function named `move_rectangle` that takes a `Rectangle` and two numbers named `dx` and `dy`. It should change the location of the rectangle by adding `dx` to the `x` coordinate of `corner` and adding `dy` to the `y` coordinate of `corner`."
   ]
  },
  {
   "cell_type": "code",
   "execution_count": 21,
   "metadata": {
    "collapsed": false,
    "solution": "Exercise 15.2"
   },
   "outputs": [
    {
     "name": "stdout",
     "output_type": "stream",
     "text": [
      "0.0\n",
      "0.0\n",
      "(1, 2)\n"
     ]
    }
   ],
   "source": [
    "class Rectangle(object):\n",
    "    '''Represents a rectangle.\n",
    "    \n",
    "    attributes: width, height, corner\n",
    "    '''\n",
    "box = Rectangle()\n",
    "box.width = 100.0\n",
    "box.height = 200.0\n",
    "box.corner = Point()\n",
    "box.corner.x = 0.0\n",
    "box.corner.y = 0.0\n",
    "\n",
    "print box.corner.x\n",
    "print box.corner.y\n",
    "def move_rectangle(rect, dx, dy):\n",
    "    '''changes the position of the rectangle \n",
    "    by adding dx to the x coordinate of the corner \n",
    "    and dy to the y coordinate of the corner\n",
    "    '''\n",
    "    rect.corner.x += dx\n",
    "    rect.corner.y += dy\n",
    "    return rect\n",
    "move_rectangle(box, 1, 2)\n",
    "print_point(box.corner)"
   ]
  },
  {
   "cell_type": "markdown",
   "metadata": {
    "is_question": true,
    "problem": "Exercise 15.3"
   },
   "source": [
    "### Exercise 3  \n",
    "\n",
    "Write a version of `move_rectangle` that creates and returns a new `Rectangle` instead of modifying the old one."
   ]
  },
  {
   "cell_type": "code",
   "execution_count": 36,
   "metadata": {
    "collapsed": false,
    "solution": "Exercise 15.3"
   },
   "outputs": [
    {
     "name": "stdout",
     "output_type": "stream",
     "text": [
      "2.0\n",
      "1.0\n"
     ]
    }
   ],
   "source": [
    "import copy\n",
    "def move_rectangle_copy(rect, dx, dy):\n",
    "    box2 = copy.deepcopy(rect)\n",
    "    move_rectangle(box2, dx, dy)\n",
    "    return box2\n",
    "box2 = move_rectangle_copy(box, 1, 2)\n",
    "print box2.corner.x\n",
    "print box.corner.x"
   ]
  },
  {
   "cell_type": "markdown",
   "metadata": {
    "is_question": true,
    "problem": "Time spent"
   },
   "source": [
    "## Quick poll\n",
    "About how long did you spend working on this Reading Journal?"
   ]
  },
  {
   "cell_type": "markdown",
   "metadata": {},
   "source": [
    "45 minutes"
   ]
  },
  {
   "cell_type": "markdown",
   "metadata": {
    "poll_response": true,
    "solution": "Time spent"
   },
   "source": [
    " "
   ]
  },
  {
   "cell_type": "markdown",
   "metadata": {
    "is_question": true,
    "problem": "Feedback"
   },
   "source": [
    "## Reading Journal feedback\n",
    "\n",
    "Have any comments on this Reading Journal? Feel free to leave them below and we'll read them when you submit your journal entry. This could include suggestions to improve the exercises, topics you'd like to see covered in class next time, or other feedback.\n",
    "\n",
    "If you have Python questions or run into problems while completing the reading, you should post them to Piazza instead so you can get a quick response before your journal is submitted."
   ]
  },
  {
   "cell_type": "markdown",
   "metadata": {},
   "source": []
  },
  {
   "cell_type": "markdown",
   "metadata": {
    "feedback_response": true,
    "solution": "Feedback"
   },
   "source": [
    " "
   ]
  }
 ],
 "metadata": {
  "kernelspec": {
   "display_name": "Python 2",
   "language": "python",
   "name": "python2"
  },
  "language_info": {
   "codemirror_mode": {
    "name": "ipython",
    "version": 2
   },
   "file_extension": ".py",
   "mimetype": "text/x-python",
   "name": "python",
   "nbconvert_exporter": "python",
   "pygments_lexer": "ipython2",
   "version": "2.7.6"
  }
 },
 "nbformat": 4,
 "nbformat_minor": 0
}

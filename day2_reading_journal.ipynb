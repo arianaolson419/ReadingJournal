{
 "cells": [
  {
   "cell_type": "markdown",
   "metadata": {},
   "source": [
    "# Day 2 Reading Journal\n",
    "\n",
    "This journal includes several required exercises, but it is meant to encourage active reading more generally.  You should use the journal to take detailed notes, catalog questions, and explore the content from Think Python deeply.\n",
    "\n",
    "Reading: Think Python Chapter 6.1-6.4, 7\n",
    "\n",
    "**Due: Thursday, January 28 at 12 noon**\n",
    "\n"
   ]
  },
  {
   "cell_type": "markdown",
   "metadata": {},
   "source": [
    "## [Chapter 6.1-6.4](http://www.greenteapress.com/thinkpython/html/thinkpython007.html)\n",
    "\n",
    "Note: the exercise numbers below match up with the reading for ease of cross referencing."
   ]
  },
  {
   "cell_type": "markdown",
   "metadata": {},
   "source": [
    "**Quick check:** What is a _fruitful function_?"
   ]
  },
  {
   "cell_type": "markdown",
   "metadata": {},
   "source": [
    "return statement includes an expression\n",
    "returns a value instead of None"
   ]
  },
  {
   "cell_type": "code",
   "execution_count": 7,
   "metadata": {
    "collapsed": false
   },
   "outputs": [
    {
     "name": "stdout",
     "output_type": "stream",
     "text": [
      "this doesn't matter\n",
      "this doesn't matter\n",
      "None\n"
     ]
    }
   ],
   "source": [
    "import math\n",
    "def area(radius):\n",
    "    temp = math.pi * radius**2\n",
    "    return temp\n",
    "    print \"this doesn't matter\" #dead code\n",
    "area(2)\n",
    "print area(2)\n"
   ]
  },
  {
   "cell_type": "markdown",
   "metadata": {},
   "source": [
    " "
   ]
  },
  {
   "cell_type": "markdown",
   "metadata": {},
   "source": [
    "### Exercise 1  \n",
    "Write a `compare` function that returns `1` if `x > y`, `0` if `x == y`, and `-1` if `x < y`."
   ]
  },
  {
   "cell_type": "code",
   "execution_count": 11,
   "metadata": {
    "collapsed": false
   },
   "outputs": [
    {
     "name": "stdout",
     "output_type": "stream",
     "text": [
      "-1\n",
      "0\n",
      "1\n"
     ]
    }
   ],
   "source": [
    "def compare(x,y):\n",
    "    if x > y:\n",
    "        return 1\n",
    "    elif x == y:\n",
    "        return 0\n",
    "    else:\n",
    "        return -1\n",
    "print compare(1,2)\n",
    "print compare(4,4)\n",
    "print compare(8,3)"
   ]
  },
  {
   "cell_type": "markdown",
   "metadata": {},
   "source": [
    "**Quick check:** Modify the `absolute_value` function so that it returns the correct result for all integer inputs."
   ]
  },
  {
   "cell_type": "code",
   "execution_count": 10,
   "metadata": {
    "collapsed": false
   },
   "outputs": [
    {
     "name": "stdout",
     "output_type": "stream",
     "text": [
      "0\n"
     ]
    }
   ],
   "source": [
    "def absolute_value(x):\n",
    "    if x < 0:\n",
    "        return -x\n",
    "    if x > 0:\n",
    "        return x\n",
    "    if x == 0:\n",
    "        return x\n",
    "print absolute_value(0)"
   ]
  },
  {
   "cell_type": "code",
   "execution_count": 17,
   "metadata": {
    "collapsed": false
   },
   "outputs": [
    {
     "name": "stdout",
     "output_type": "stream",
     "text": [
      "5.0\n"
     ]
    }
   ],
   "source": [
    "def distance(x1, y1, x2, y2):\n",
    "    dx = x2 - x1\n",
    "    dy = y2 - y1\n",
    "    dsquared = dx**2 + dy**2\n",
    "    result = math.sqrt(dsquared)\n",
    "    return result    "
   ]
  },
  {
   "cell_type": "markdown",
   "metadata": {},
   "source": [
    "### Exercise 2  \n",
    "Use incremental development to write a function called `hypotenuse` that returns the length of the hypotenuse of a right triangle given the lengths of the two legs as arguments. Record each stage of the development process as you go, using as many cells as you need."
   ]
  },
  {
   "cell_type": "code",
   "execution_count": 20,
   "metadata": {
    "collapsed": false
   },
   "outputs": [
    {
     "name": "stdout",
     "output_type": "stream",
     "text": [
      "0.0\n"
     ]
    }
   ],
   "source": [
    "def hypotenuse(leg1, leg2):\n",
    "    return 0.0\n",
    "\n",
    "print hypotenuse(3,4)"
   ]
  },
  {
   "cell_type": "code",
   "execution_count": 21,
   "metadata": {
    "collapsed": false
   },
   "outputs": [
    {
     "name": "stdout",
     "output_type": "stream",
     "text": [
      "9\n",
      "16\n",
      "0.0\n"
     ]
    }
   ],
   "source": [
    "def hypotenuse(leg1, leg2):\n",
    "    leg1squared = leg1**2\n",
    "    leg2squared = leg2**2\n",
    "    print leg1squared\n",
    "    print leg2squared\n",
    "    return 0.0\n",
    "\n",
    "print hypotenuse(3,4)"
   ]
  },
  {
   "cell_type": "code",
   "execution_count": 22,
   "metadata": {
    "collapsed": false
   },
   "outputs": [
    {
     "name": "stdout",
     "output_type": "stream",
     "text": [
      "25\n",
      "0.0\n"
     ]
    }
   ],
   "source": [
    "def hypotenuse(leg1, leg2):\n",
    "    leg1squared = leg1**2\n",
    "    leg2squared = leg2**2\n",
    "    sum_squares = leg1squared +leg2squared\n",
    "    print sum_squares\n",
    "    return 0.0\n",
    "\n",
    "print hypotenuse(3,4)"
   ]
  },
  {
   "cell_type": "code",
   "execution_count": 24,
   "metadata": {
    "collapsed": false
   },
   "outputs": [
    {
     "name": "stdout",
     "output_type": "stream",
     "text": [
      "5.0\n"
     ]
    }
   ],
   "source": [
    "def hypotenuse(leg1, leg2):\n",
    "    leg1squared = leg1**2\n",
    "    leg2squared = leg2**2\n",
    "    sum_squares = leg1squared +leg2squared\n",
    "    results = math.sqrt(sum_squares)\n",
    "    return results\n",
    "\n",
    "print hypotenuse(3,4)"
   ]
  },
  {
   "cell_type": "code",
   "execution_count": 26,
   "metadata": {
    "collapsed": false
   },
   "outputs": [
    {
     "name": "stdout",
     "output_type": "stream",
     "text": [
      "x is divisible by y\n"
     ]
    }
   ],
   "source": [
    "def is_divisible(x, y):\n",
    "    return x % y == 0\n",
    "\n",
    "if is_divisible(9,3):\n",
    "    print 'x is divisible by y'"
   ]
  },
  {
   "cell_type": "markdown",
   "metadata": {},
   "source": [
    "### Exercise 3  \n",
    "Write a function `is_between(x, y, z)` that returns `True` if `x ≤ y ≤ z` or `False` otherwise."
   ]
  },
  {
   "cell_type": "code",
   "execution_count": 27,
   "metadata": {
    "collapsed": false
   },
   "outputs": [
    {
     "name": "stdout",
     "output_type": "stream",
     "text": [
      "True\n",
      "False\n"
     ]
    }
   ],
   "source": [
    "def is_between(x, y, z):\n",
    "    return x <= y and y <= z\n",
    "\n",
    "print is_between(1, 4, 10)\n",
    "print is_between(3, 1, 7)"
   ]
  },
  {
   "cell_type": "markdown",
   "metadata": {},
   "source": [
    "## [Chapter 7](http://www.greenteapress.com/thinkpython/html/thinkpython008.html)\n",
    "\n"
   ]
  },
  {
   "cell_type": "markdown",
   "metadata": {},
   "source": [
    "**Quick check:** How do you test for equality in Python?"
   ]
  },
  {
   "cell_type": "markdown",
   "metadata": {},
   "source": [
    "use '==' instead of '='"
   ]
  },
  {
   "cell_type": "markdown",
   "metadata": {},
   "source": [
    " "
   ]
  },
  {
   "cell_type": "markdown",
   "metadata": {},
   "source": [
    "**Challenge:** Prove/disprove the Collatz conjecture :)"
   ]
  },
  {
   "cell_type": "markdown",
   "metadata": {},
   "source": [
    "### Exercise 2  \n",
    "Encapsulate the loop from Section 7.5 in a function called `square_root` that takes `a` as a parameter, chooses a reasonable value of `x`, and returns an estimate of the square root of `a`."
   ]
  },
  {
   "cell_type": "code",
   "execution_count": 7,
   "metadata": {
    "collapsed": false
   },
   "outputs": [
    {
     "name": "stdout",
     "output_type": "stream",
     "text": [
      "35.0\n",
      "18.5\n",
      "11.1418918919\n",
      "8.71224370216\n",
      "8.3734566728\n",
      "8.36660307244\n",
      "8.36660026534\n"
     ]
    },
    {
     "data": {
      "text/plain": [
       "8.366600265341226"
      ]
     },
     "execution_count": 7,
     "metadata": {},
     "output_type": "execute_result"
    }
   ],
   "source": [
    "def square_root(a):\n",
    "    x = a/2.0\n",
    "    epsilon = 0.000001\n",
    "    while True:\n",
    "        print x\n",
    "        y = (x + a/x) / 2\n",
    "        if abs(y - x) < epsilon:\n",
    "            break\n",
    "        x = y\n",
    "    return x\n",
    "square_root(70)"
   ]
  },
  {
   "cell_type": "markdown",
   "metadata": {},
   "source": [
    "### Exercise 3  \n",
    "To test the square root algorithm you developed in Exercise 2, you could compare it with Python's `math.sqrt` function. Write a function named `test_square_root` that prints a table like this:\n",
    "\n",
    "```python\n",
    "1.0 1.0           1.0           0.0\n",
    "2.0 1.41421356237 1.41421356237 2.22044604925e-16\n",
    "3.0 1.73205080757 1.73205080757 0.0\n",
    "4.0 2.0           2.0           0.0\n",
    "5.0 2.2360679775  2.2360679775  0.0\n",
    "6.0 2.44948974278 2.44948974278 0.0\n",
    "7.0 2.64575131106 2.64575131106 0.0\n",
    "8.0 2.82842712475 2.82842712475 4.4408920985e-16\n",
    "9.0 3.0           3.0           0.0\n",
    "```\n",
    "\n",
    "The first column is a number, `a`; the second column is the square root of a computed with the function from Section 7.5; the third column is the square root computed by `math.sqrt`; the fourth column is the absolute value of the difference between the two estimates."
   ]
  },
  {
   "cell_type": "code",
   "execution_count": 54,
   "metadata": {
    "collapsed": false
   },
   "outputs": [
    {
     "name": "stdout",
     "output_type": "stream",
     "text": [
      "1.0  1.00000004646  1.0            4.64611473738e-08\n",
      "2.0  1.41421356237  1.41421356237  1.59472435257e-12\n",
      "3.0  1.73205081001  1.73205080757  2.44585018905e-09\n",
      "4.0  2.0            2.0            0.0\n",
      "5.0  2.23606797792  2.2360679775   4.16013890003e-10\n",
      "6.0  2.44948979592  2.44948974278  5.31351895816e-08\n",
      "7.0  2.64575204838  2.64575131106  7.37316212973e-07\n",
      "8.0  2.82842712475  2.82842712475  3.18944870514e-12\n",
      "9.0  3.00000000004  3.0            3.9321434997e-11\n"
     ]
    }
   ],
   "source": [
    "import math\n",
    "\n",
    "def square_root2(a):\n",
    "    x = a/2.0\n",
    "    epsilon = 0.000001\n",
    "    while True:\n",
    "        y = (x + a/x) / 2\n",
    "        if abs(y - x) < epsilon:\n",
    "            break\n",
    "        x = y\n",
    "    return x\n",
    "\n",
    "def test_square_root(a):\n",
    "    while a < 10:\n",
    "        number = float(a)\n",
    "        my_root = square_root2(a)\n",
    "        their_root = math.sqrt(a)\n",
    "        error = abs(my_root - their_root)\n",
    "        a = a + 1\n",
    "        print number, ' ' * (3-len(str(number))), my_root, ' ' * (13-len(str(my_root))), their_root, ' ' * (13-len(str(their_root))), error\n",
    "        \n",
    "\n",
    "test_square_root(1)\n"
   ]
  },
  {
   "cell_type": "markdown",
   "metadata": {},
   "source": [
    "### Challenge: Exercise 5  (optional)\n",
    "The mathematician Srinivasa Ramanujan found an infinite series that can be used to generate a numerical approximation of\n",
    "$\\frac{1}{\\pi}$:\n",
    "\n",
    "$$\\frac{1}{\\pi} = \\frac{2 \\sqrt{2}}{9801} \\sum_{k=0}^{\\infty} \\frac{(4k)! (1103+26390k)}{(k!)^4 396^{4k}}$$\n",
    " \n",
    "Write a function called `estimate_pi` that uses this formula to compute and return an estimate of $\\pi$. It should use a `while` loop to compute terms of the summation until the last term is smaller than `1e-15` (which is Python notation for $10^{−15}$). You can check the result by comparing it to `math.pi`.\n",
    "\n",
    "[Possible solution](http://thinkpython.com/code/pi.py) (give the exercise a try before viewing the solution)"
   ]
  },
  {
   "cell_type": "code",
   "execution_count": 33,
   "metadata": {
    "collapsed": false
   },
   "outputs": [
    {
     "name": "stdout",
     "output_type": "stream",
     "text": [
      "3822090.08265\n"
     ]
    }
   ],
   "source": [
    "import math \n",
    "\n",
    "def estimate_pi():\n",
    "    k = 0.0\n",
    "    x = 0.0\n",
    "    while True:\n",
    "        i = (9801/(2*math.sqrt(2)))*(math.factorial(4*k)*(1103+26390*k))/((math.factorial(k)**4)*(396**(4*k)))\n",
    "        x = x + i\n",
    "        if i < 1e-15:\n",
    "            break\n",
    "        k = k + 1\n",
    "    return x\n",
    "print estimate_pi()"
   ]
  },
  {
   "cell_type": "markdown",
   "metadata": {},
   "source": [
    "## Reading Journal feedback\n",
    "\n",
    "Have any comments on this Reading Journal? Feel free to leave them below and we'll read them when you submit your journal entry. This could include suggestions to improve the exercises, topics you'd like to see covered in class next time, or other feedback.\n",
    "\n",
    "If you have Python questions or run into problems while completing the reading, you should post them to Piazza instead so you can get a quick response before your journal is submitted."
   ]
  },
  {
   "cell_type": "markdown",
   "metadata": {},
   "source": [
    " "
   ]
  }
 ],
 "metadata": {
  "kernelspec": {
   "display_name": "Python 2",
   "language": "python",
   "name": "python2"
  },
  "language_info": {
   "codemirror_mode": {
    "name": "ipython",
    "version": 2
   },
   "file_extension": ".py",
   "mimetype": "text/x-python",
   "name": "python",
   "nbconvert_exporter": "python",
   "pygments_lexer": "ipython2",
   "version": "2.7.6"
  }
 },
 "nbformat": 4,
 "nbformat_minor": 0
}

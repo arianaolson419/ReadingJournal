{
 "cells": [
  {
   "cell_type": "markdown",
   "metadata": {},
   "source": [
    "# Day 1 Reading Journal\n",
    "\n",
    "Hi everyone.  These are the exercises for the first set of readings from ThinkPython.  While this journal consists of several required exercises, it is meant to encourage active reading more generally.  You should use this journal to take detailed notes, catalog questions, and explore the content from ThinkPython deeply.\n",
    "\n",
    "For more information on using the Jupyter notebook, check out the documentation [here](http://nbviewer.jupyter.org/github/jupyter/notebook/blob/master/docs/source/examples/Notebook/Examples%20and%20Tutorials%20Index.ipynb).  Additionally, in order to write text in this document, you will be making use of markdown cells. A handy cheatsheet for markdown is available [here](https://github.com/adam-p/markdown-here/wiki/Markdown-Cheatsheet)."
   ]
  },
  {
   "cell_type": "markdown",
   "metadata": {},
   "source": [
    "## Chapter 1\n",
    "\n",
    "Note: the exercise numbers below match up with the reading for ease of cross referencing."
   ]
  },
  {
   "cell_type": "markdown",
   "metadata": {},
   "source": [
    "1.1\n",
    "\n",
    "Python, C++, Perl, Java high level languages\n",
    "    >have to be processed by computer before run\n",
    "    >easier to program\n",
    "    >portable\n",
    "low level languages\n",
    "    >computers can run easier>harder to write\n",
    "    >specific to one kind of computer (have to rewrite to run on another\n",
    "    \n",
    "interpreters\n",
    "    >reads HL prog, executes\n",
    "    >alternates reading lines and performing computations\n",
    "    >PYTHON an interpreted language\n",
    "    source code --> interpreter --> output\n",
    "    INTERACTIVE MODE\n",
    "        *type Python programs, int displays results\n",
    "        * \">>>\" indicates int ready\n",
    "        *small pieces code\n",
    "    SCRIPT MODE\n",
    "        *code stored in file, int executes contents of file\n",
    "        *Python scripts end in .py\n",
    "        *in UNIX: python scriptname.py\n",
    "        *more thn a few lines\n",
    "compiler\n",
    "    >translates program completely before prog runs\n",
    "    >HL prog called source code, translated prog called object code/executable\n",
    "    >can execute prog repeatedly w/out further translation onoce compiled\n",
    "    source code --> compiler --> --> object code --> executor --> output\n",
    "    \n"
   ]
  },
  {
   "cell_type": "markdown",
   "metadata": {},
   "source": [
    "1.2\n",
    "\n",
    "program: sequence instructions hat specifies how to perform a computation\n",
    "    >input: Get data from keyboard, file, etc\n",
    "    >output: display data on screen/ send data to file or other device\n",
    "    >math: basic math operations\n",
    "    >conditional execution: Check for certain conditions, execute appropriate code\n",
    "    >repetition: perform action repeatedly   "
   ]
  },
  {
   "cell_type": "markdown",
   "metadata": {},
   "source": [
    "1.3\n",
    "\n",
    "debugging: process of tracking down bugs (errors)\n",
    "\n",
    "syntax error: mistake in the syntax of the program that prevents the program from running\n",
    "runtime errors/exceptions: appear until after the program has started running\n",
    "semantic error: computer will run program with no errors, unexected result"
   ]
  },
  {
   "cell_type": "markdown",
   "metadata": {},
   "source": [
    "1.4\n",
    "\n",
    "Natural languages: spoken languages\n",
    "Formal languages: designed by people for specific applications ie math, chemistry, programming\n",
    "\n",
    "tokens: basic elements of a language (words, numbers, etc)\n",
    "parsing: figuring out the structure of a sentence"
   ]
  },
  {
   "cell_type": "code",
   "execution_count": 1,
   "metadata": {
    "collapsed": false
   },
   "outputs": [
    {
     "name": "stdout",
     "output_type": "stream",
     "text": [
      "Hello, World!\n"
     ]
    }
   ],
   "source": [
    "#print statement\n",
    "print 'Hello, World!'"
   ]
  },
  {
   "cell_type": "markdown",
   "metadata": {},
   "source": [
    "### Exercise 3\n",
    "\n",
    "Type `help()` to start the online help utility. Or you can type help('print') to get information about the print statement.  You should type `q` and then hit `enter` in the text box to exit the help utility. \n",
    "\n",
    "Note: this exercise is pretty simple (and there's not much to put in the box)!  We just want to make sure that you have tried out this super-handy feature of Python!"
   ]
  },
  {
   "cell_type": "code",
   "execution_count": 3,
   "metadata": {
    "collapsed": true
   },
   "outputs": [
    {
     "name": "stdout",
     "output_type": "stream",
     "text": [
      "The ``print`` statement\n",
      "***********************\n",
      "\n",
      "   print_stmt ::= \"print\" ([expression (\",\" expression)* [\",\"]]\n",
      "                  | \">>\" expression [(\",\" expression)+ [\",\"]])\n",
      "\n",
      "``print`` evaluates each expression in turn and writes the resulting\n",
      "object to standard output (see below).  If an object is not a string,\n",
      "it is first converted to a string using the rules for string\n",
      "conversions.  The (resulting or original) string is then written.  A\n",
      "space is written before each object is (converted and) written, unless\n",
      "the output system believes it is positioned at the beginning of a\n",
      "line.  This is the case (1) when no characters have yet been written\n",
      "to standard output, (2) when the last character written to standard\n",
      "output is a whitespace character except ``' '``, or (3) when the last\n",
      "write operation on standard output was not a ``print`` statement. (In\n",
      "some cases it may be functional to write an empty string to standard\n",
      "output for this reason.)\n",
      "\n",
      "Note: Objects which act like file objects but which are not the built-in\n",
      "  file objects often do not properly emulate this aspect of the file\n",
      "  object's behavior, so it is best not to rely on this.\n",
      "\n",
      "A ``'\\n'`` character is written at the end, unless the ``print``\n",
      "statement ends with a comma.  This is the only action if the statement\n",
      "contains just the keyword ``print``.\n",
      "\n",
      "Standard output is defined as the file object named ``stdout`` in the\n",
      "built-in module ``sys``.  If no such object exists, or if it does not\n",
      "have a ``write()`` method, a ``RuntimeError`` exception is raised.\n",
      "\n",
      "``print`` also has an extended form, defined by the second portion of\n",
      "the syntax described above. This form is sometimes referred to as\n",
      "\"``print`` chevron.\" In this form, the first expression after the\n",
      "``>>`` must evaluate to a \"file-like\" object, specifically an object\n",
      "that has a ``write()`` method as described above.  With this extended\n",
      "form, the subsequent expressions are printed to this file object.  If\n",
      "the first expression evaluates to ``None``, then ``sys.stdout`` is\n",
      "used as the file for output.\n",
      "\n"
     ]
    }
   ],
   "source": [
    "help('print')"
   ]
  },
  {
   "cell_type": "markdown",
   "metadata": {},
   "source": [
    "### Exercise 4  \n",
    "\n",
    "Start the Python interpreter and use it as a calculator. Python’s syntax for math operations is almost the same as standard mathematical notation. For example, the symbols +, - and / denote addition, subtraction and division, as you would expect. The symbol for multiplication is *.\n",
    "\n",
    "If you run a 10 kilometer race in 43 minutes 30 seconds, what is your average time per mile? What is your average speed in miles per hour? (Hint: there are 1.61 kilometers in a mile). "
   ]
  },
  {
   "cell_type": "code",
   "execution_count": 17,
   "metadata": {
    "collapsed": true
   },
   "outputs": [
    {
     "name": "stdout",
     "output_type": "stream",
     "text": [
      "7.0035\n",
      "8.56714499893\n"
     ]
    }
   ],
   "source": [
    "#variables and calculations\n",
    "total_time=43.5 #minutes\n",
    "hour_time=total_time/60 #hours\n",
    "distance_kilo=10 #kilometers\n",
    "distance_mile=distance_kilo/1.61 #miles\n",
    "time_per_mile=total_time/distance_mile #minutes/mile\n",
    "speed=distance_mile/hour_time #miles/hour\n",
    "#display results\n",
    "print time_per_mile \n",
    "print speed\n"
   ]
  },
  {
   "cell_type": "markdown",
   "metadata": {},
   "source": [
    "## Chapter 2"
   ]
  },
  {
   "cell_type": "markdown",
   "metadata": {},
   "source": [
    "2.1\n",
    "\n",
    "value: basic thing like an integer or string\n",
    "\n",
    "types\n",
    "    >strings, integers, floats\n",
    "    >floats have decimal points"
   ]
  },
  {
   "cell_type": "code",
   "execution_count": 20,
   "metadata": {
    "collapsed": true
   },
   "outputs": [
    {
     "name": "stdout",
     "output_type": "stream",
     "text": [
      "<type 'str'>\n",
      "<type 'int'>\n",
      "<type 'float'>\n",
      "<type 'str'>\n"
     ]
    }
   ],
   "source": [
    "a = type('Hello World')\n",
    "b = type(17)\n",
    "c = type(32.5)\n",
    "d = type('17')\n",
    "\n",
    "print a\n",
    "print b\n",
    "print c\n",
    "print d"
   ]
  },
  {
   "cell_type": "markdown",
   "metadata": {},
   "source": [
    "2.2\n",
    "\n",
    "variable: name that refers to a value\n",
    "assignment statement: creates new vas and gives them vals"
   ]
  },
  {
   "cell_type": "markdown",
   "metadata": {},
   "source": [
    "2.3\n",
    "\n",
    "var names always begin w/letter but can include numbers too, good to begin lowercase"
   ]
  },
  {
   "cell_type": "code",
   "execution_count": 21,
   "metadata": {
    "collapsed": true
   },
   "outputs": [
    {
     "ename": "SyntaxError",
     "evalue": "invalid syntax (<ipython-input-21-6674520e2f7d>, line 1)",
     "output_type": "error",
     "traceback": [
      "\u001b[1;36m  File \u001b[1;32m\"<ipython-input-21-6674520e2f7d>\"\u001b[1;36m, line \u001b[1;32m1\u001b[0m\n\u001b[1;33m    76trombones = 'big parade'\u001b[0m\n\u001b[1;37m              ^\u001b[0m\n\u001b[1;31mSyntaxError\u001b[0m\u001b[1;31m:\u001b[0m invalid syntax\n"
     ]
    }
   ],
   "source": [
    "76trombones = 'big parade' #begins with a 7\n",
    "more@ = 100000 #illegal symbol\n",
    "class = 'SoftDes' #class is a keyword "
   ]
  },
  {
   "cell_type": "markdown",
   "metadata": {},
   "source": [
    "2.4\n",
    "\n",
    "operators: represent computations\n",
    "    >operands: values operator applied to\n",
    "    > +,-,*,/,** addition, subtraction, multipliacation, division, exponentiation\n",
    "    \n",
    "floor division: integer operands result in an integer rounded down to nearest value (Python 2)\n",
    "    > 59/60=0\n",
    "    >59/60.0=.98...."
   ]
  },
  {
   "cell_type": "markdown",
   "metadata": {},
   "source": [
    "2.5\n",
    "\n",
    "expression: combo vals, vars, operators\n",
    "    >each on its own also considered an expression\n",
    "statement: unit of code Python interpreter can execute\n",
    "    >does not have a val\n",
    "    >ie print, assignment"
   ]
  },
  {
   "cell_type": "markdown",
   "metadata": {},
   "source": [
    "### Exercise 2  \n",
    "\n",
    "Assume that we execute the following assignment statements:\n",
    "\n",
    "width = 17\n",
    "height = 12.0\n",
    "delimiter = '.'\n",
    "\n",
    "For each of the following expressions, write the value of the expression and the type (of the value of the expression).\n",
    "\n",
    "1. `width/2`\n",
    "2. `width/2.0`\n",
    "3. `height/3`\n",
    "4. `1 + 2 * 5`\n",
    "5. `delimiter * 5`\n",
    "\n",
    "Please use the following markdown cell to provide your answer."
   ]
  },
  {
   "cell_type": "code",
   "execution_count": 24,
   "metadata": {
    "collapsed": true
   },
   "outputs": [
    {
     "data": {
      "text/plain": [
       "'.....'"
      ]
     },
     "execution_count": 24,
     "metadata": {},
     "output_type": "execute_result"
    }
   ],
   "source": [
    "'.' *5"
   ]
  },
  {
   "cell_type": "markdown",
   "metadata": {},
   "source": []
  },
  {
   "cell_type": "markdown",
   "metadata": {},
   "source": [
    "1. 8, int\n",
    "2. 8.5, float\n",
    "3. 4.0, float\n",
    "4. 11, int\n",
    "5. '.....', string"
   ]
  },
  {
   "cell_type": "markdown",
   "metadata": {},
   "source": [
    "2.7\n",
    "\n",
    "rules of precedence\n",
    "    >PEMDAS"
   ]
  },
  {
   "cell_type": "markdown",
   "metadata": {},
   "source": [
    "2.8\n",
    "\n",
    "concatenation: links strings end to end\n",
    "    >use +\n",
    "repetition\n",
    "    >use *"
   ]
  },
  {
   "cell_type": "markdown",
   "metadata": {},
   "source": [
    "2.9\n",
    "\n",
    "use # for comments"
   ]
  },
  {
   "cell_type": "markdown",
   "metadata": {},
   "source": [
    "### Exercise 3  \n",
    "\n",
    "Practice using the Python interpreter as a calculator.  For each of these provide Python code that computes each answer.\n",
    "\n",
    "    \n"
   ]
  },
  {
   "cell_type": "raw",
   "metadata": {},
   "source": [
    "# The volume of a sphere with radius r is 4/3 $\\pi r^3$. What is the volume of a sphere with radius 5? Hint: 392.7 is wrong!"
   ]
  },
  {
   "cell_type": "code",
   "execution_count": 33,
   "metadata": {
    "collapsed": true
   },
   "outputs": [
    {
     "name": "stdout",
     "output_type": "stream",
     "text": [
      "523.598775598\n"
     ]
    }
   ],
   "source": [
    "import math \n",
    "pi = math.pi \n",
    "r = 5\n",
    "\n",
    "volume_sphere = (4*pi*(r**3))/3\n",
    "print volume_sphere"
   ]
  },
  {
   "cell_type": "markdown",
   "metadata": {},
   "source": [
    "Suppose the cover price of a book is \\$24.95, but bookstores get a 40% discount. Shipping costs \\$3 for the first copy and 75 cents for each additional copy. What is the total wholesale cost for 60 copies?"
   ]
  },
  {
   "cell_type": "code",
   "execution_count": 36,
   "metadata": {
    "collapsed": true
   },
   "outputs": [
    {
     "name": "stdout",
     "output_type": "stream",
     "text": [
      "856.95\n"
     ]
    }
   ],
   "source": [
    "number_books = 60\n",
    "price_book = 24.95 #dollars\n",
    "discount = 1-0.4\n",
    "ship_one = 3.00 #dollars\n",
    "ship_additional = 0.75 #dollars\n",
    "price_discount = price_book*discount\n",
    "total_shipping = ship_one - ship_additional*(number_books-1) \n",
    "total_price = price_discount*number_books+total_shipping\n",
    "print total_price"
   ]
  },
  {
   "cell_type": "markdown",
   "metadata": {},
   "source": [
    "If I leave my house at 6:52 am and run 1 mile at an easy pace (8:15 per mile), then 3 miles at tempo (7:12 per mile) and 1 mile at easy pace again, what time do I get home for breakfast? "
   ]
  },
  {
   "cell_type": "code",
   "execution_count": 55,
   "metadata": {
    "collapsed": true
   },
   "outputs": [
    {
     "name": "stdout",
     "output_type": "stream",
     "text": [
      "7:30:6 AM\n"
     ]
    }
   ],
   "source": [
    "start_time = 6*60 + 52.0 #minutes\n",
    "easy_pace = 8 + 15.0/60 #minutes per mile\n",
    "tempo_pace = 7 + 12.0/60 #minutes per mile\n",
    "\n",
    "#calculate times\n",
    "first_leg = 1*easy_pace #minutes\n",
    "second_leg = 3*tempo_pace #minutes\n",
    "third_leg = 1*easy_pace #minutes\n",
    "total_time = first_leg+second_leg+third_leg #minutes\n",
    "final_time = start_time + total_time #minutes\n",
    "\n",
    "#convert into time notation\n",
    "hours = int(final_time/60)\n",
    "minutes = int(final_time-hours*60)\n",
    "seconds = int(60*(final_time-60*hours-minutes))\n",
    "print str(hours)+':'+str(minutes)+':'+str(seconds)+' AM'"
   ]
  },
  {
   "cell_type": "markdown",
   "metadata": {},
   "source": [
    "## Chapter 3"
   ]
  },
  {
   "cell_type": "markdown",
   "metadata": {},
   "source": [
    "3.1\n",
    "\n",
    "function call:\n",
    "    function(argument)\n",
    "    result is a return value"
   ]
  },
  {
   "cell_type": "markdown",
   "metadata": {},
   "source": [
    "3.2\n",
    "\n",
    "int converts to integers\n",
    "float \" \" floating point #s\n",
    "str \"  \" string"
   ]
  },
  {
   "cell_type": "markdown",
   "metadata": {},
   "source": [
    "3.3\n",
    "\n",
    "module: file containing collection related functions\n",
    "uses dot notationv(module.function)"
   ]
  },
  {
   "cell_type": "markdown",
   "metadata": {},
   "source": [
    "3.4\n",
    "\n",
    "arbitrary expression can be put where values are allowed\n",
    "    >var must be on the left"
   ]
  },
  {
   "cell_type": "markdown",
   "metadata": {},
   "source": [
    "3.5\n",
    "\n",
    "function definition: names new function and statements to execute when function is called\n",
    "    >1st line the header, rest the body\n",
    "    >header always ends with colon\n",
    "can use functions inside other functions"
   ]
  },
  {
   "cell_type": "markdown",
   "metadata": {},
   "source": [
    "3.7\n",
    "\n",
    "flow of execution: order statements executed\n",
    "    >top to bottom"
   ]
  },
  {
   "cell_type": "markdown",
   "metadata": {},
   "source": [
    "3.8\n",
    "\n",
    "parameters: args assigned to vars inside func"
   ]
  },
  {
   "cell_type": "markdown",
   "metadata": {},
   "source": [
    "3.9\n",
    "\n",
    "vars inside funcs are local: only exist inside the func"
   ]
  },
  {
   "cell_type": "markdown",
   "metadata": {},
   "source": [
    "3.10\n",
    "\n",
    "stack diagram: shows the val of ea. var, func var belongs to\n",
    "\n",
    "frame:box w/name func beside, params and vars inside"
   ]
  },
  {
   "cell_type": "markdown",
   "metadata": {},
   "source": [
    "3.13\n",
    "\n",
    "from module import function\n",
    "\n",
    "from module import * (imports everything)"
   ]
  },
  {
   "cell_type": "markdown",
   "metadata": {},
   "source": [
    "### Exercise 3\n",
    "\n",
    "Python provides a built-in function called len that returns the length of a string, so the value of len('allen') is 5.\n",
    "Write a function named right_justify that takes a string named s as a parameter and prints the string with enough leading spaces so that the last letter of the string is in column 70 of the display.\n",
    "\n",
    "```\n",
    ">>> right_justify('allen')\n",
    "                                                                 allen```"
   ]
  },
  {
   "cell_type": "code",
   "execution_count": 62,
   "metadata": {
    "collapsed": true
   },
   "outputs": [
    {
     "name": "stdout",
     "output_type": "stream",
     "text": [
      "                                                                 allen\n",
      "                                                                     *\n",
      "1234567890123456789012345678901234567890123456789012345678901234567890\n"
     ]
    }
   ],
   "source": [
    "def right_justify(word):\n",
    "    length_arg = len(word)\n",
    "    print ' '*(70-length_arg)+word\n",
    "    \n",
    "right_justify('allen')\n",
    "right_justify('*')\n",
    "right_justify('1234567890123456789012345678901234567890123456789012345678901234567890')"
   ]
  },
  {
   "cell_type": "markdown",
   "metadata": {},
   "source": [
    "### Exercise 5\n",
    "\n",
    "This exercise can be done using only the statements and other features we have learned so far.\n",
    "\n",
    "(a) Write a function that draws a grid like the following:\n",
    "```\n",
    "+ - - - - + - - - - +\n",
    "|         |         |\n",
    "|         |         |\n",
    "|         |         |\n",
    "|         |         |\n",
    "+ - - - - + - - - - +\n",
    "|         |         |\n",
    "|         |         |\n",
    "|         |         |\n",
    "|         |         |\n",
    "+ - - - - + - - - - +\n",
    "```\n",
    "**Hint:** to print more than one value on a line, you can print a comma-separated sequence:\n",
    "print '+', '-'\n",
    "If the sequence ends with a comma, Python leaves the line unfinished, so the value printed next appears on the same line.\n",
    "print '+', \n",
    "print '-'\n",
    "The output of these statements is '+ -'.\n",
    "A print statement all by itself ends the current line and goes to the next line."
   ]
  },
  {
   "cell_type": "code",
   "execution_count": 71,
   "metadata": {
    "collapsed": true
   },
   "outputs": [
    {
     "name": "stdout",
     "output_type": "stream",
     "text": [
      "+  - - - - + - - - - +\n",
      "|          |         |\n",
      "|          |         |\n",
      "|          |         |\n",
      "|          |         |\n",
      "+  - - - - + - - - - +\n",
      "|          |         |\n",
      "|          |         |\n",
      "|          |         |\n",
      "|          |         |\n",
      "+  - - - - + - - - - +\n"
     ]
    }
   ],
   "source": [
    "def plusminus():\n",
    "    print '+',(' -'*4 + ' +')*2\n",
    "def vertline():\n",
    "    print '|', (' '*9 + '|') *2\n",
    "def grid():\n",
    "    plusminus()\n",
    "    vertline()\n",
    "    vertline()\n",
    "    vertline()\n",
    "    vertline()\n",
    "    plusminus()\n",
    "    vertline()\n",
    "    vertline()\n",
    "    vertline()\n",
    "    vertline()\n",
    "    plusminus()\n",
    "    \n",
    "grid()"
   ]
  },
  {
   "cell_type": "markdown",
   "metadata": {},
   "source": [
    "(b) Write a function that draws a similar grid with four rows and four columns."
   ]
  },
  {
   "cell_type": "code",
   "execution_count": 77,
   "metadata": {
    "collapsed": true
   },
   "outputs": [
    {
     "name": "stdout",
     "output_type": "stream",
     "text": [
      "+  - - - - + - - - - + - - - - + - - - - +\n",
      "|          |         |         |         |\n",
      "|          |         |         |         |\n",
      "|          |         |         |         |\n",
      "|          |         |         |         |\n",
      "+  - - - - + - - - - + - - - - + - - - - +\n",
      "|          |         |         |         |\n",
      "|          |         |         |         |\n",
      "|          |         |         |         |\n",
      "|          |         |         |         |\n",
      "+  - - - - + - - - - + - - - - + - - - - +\n",
      "|          |         |         |         |\n",
      "|          |         |         |         |\n",
      "|          |         |         |         |\n",
      "|          |         |         |         |\n",
      "+  - - - - + - - - - + - - - - + - - - - +\n",
      "|          |         |         |         |\n",
      "|          |         |         |         |\n",
      "|          |         |         |         |\n",
      "|          |         |         |         |\n",
      "+  - - - - + - - - - + - - - - + - - - - +\n"
     ]
    }
   ],
   "source": [
    "def plusminus2():\n",
    "    print '+',(' -'*4 + ' +')*4\n",
    "def vertline2():\n",
    "    print '|', (' '*9 + '|')* 4\n",
    "def grid2():\n",
    "    plusminus2()\n",
    "    vertline2()\n",
    "    vertline2()\n",
    "    vertline2()\n",
    "    vertline2()\n",
    "    plusminus2()\n",
    "    vertline2()\n",
    "    vertline2()\n",
    "    vertline2()\n",
    "    vertline2()\n",
    "    plusminus2()\n",
    "    vertline2()\n",
    "    vertline2()\n",
    "    vertline2()\n",
    "    vertline2()\n",
    "    plusminus2()\n",
    "    vertline2()\n",
    "    vertline2()\n",
    "    vertline2()\n",
    "    vertline2()\n",
    "    plusminus2()\n",
    "    \n",
    "grid2()"
   ]
  },
  {
   "cell_type": "markdown",
   "metadata": {},
   "source": [
    "## Chapter 5.1 - 5.7"
   ]
  },
  {
   "cell_type": "markdown",
   "metadata": {},
   "source": [
    "5.1\n",
    "\n",
    "modulus operator: yeilds remainder of dividing integers (%)"
   ]
  },
  {
   "cell_type": "markdown",
   "metadata": {},
   "source": [
    "5.2\n",
    "\n",
    "boolean expression: true or false\n",
    "\n",
    "relational operators\n",
    "\n",
    "==\n",
    "!=\n",
    ">\n",
    "<\n",
    ">=\n",
    "<="
   ]
  },
  {
   "cell_type": "markdown",
   "metadata": {},
   "source": [
    "5.3\n",
    "\n",
    "logical operators: and, or, not\n",
    "\n",
    "any nonzero number is \"true\""
   ]
  },
  {
   "cell_type": "markdown",
   "metadata": {},
   "source": [
    "5.4\n",
    "\n",
    "conditional statements: check conditions and change behavior to program if certain conditions are met"
   ]
  },
  {
   "cell_type": "code",
   "execution_count": null,
   "metadata": {
    "collapsed": true
   },
   "outputs": [],
   "source": [
    "def if_example(x):\n",
    "    if x>0:\n",
    "        print 'x is positive'\n",
    "    if x<=0:\n",
    "        pass\n",
    "if_example(-2)"
   ]
  },
  {
   "cell_type": "markdown",
   "metadata": {},
   "source": [
    "5.5\n",
    "\n",
    "alternative execution: two possibilities; condition determines which is executed"
   ]
  },
  {
   "cell_type": "code",
   "execution_count": 88,
   "metadata": {
    "collapsed": false
   },
   "outputs": [
    {
     "name": "stdout",
     "output_type": "stream",
     "text": [
      "8  is even\n",
      "7  is odd\n"
     ]
    }
   ],
   "source": [
    "def alternative_execution(x):\n",
    "    if x%2 == 0:\n",
    "        print x,' is even'\n",
    "    else:\n",
    "        print x, ' is odd'\n",
    "alternative_execution(8)\n",
    "alternative_execution(7)\n",
    "    "
   ]
  },
  {
   "cell_type": "markdown",
   "metadata": {},
   "source": [
    "5.6\n",
    "\n",
    "chained conditional needed with more than two possibilities"
   ]
  },
  {
   "cell_type": "code",
   "execution_count": 90,
   "metadata": {
    "collapsed": false
   },
   "outputs": [
    {
     "name": "stdout",
     "output_type": "stream",
     "text": [
      "1  is less than  3\n",
      "5  is greater than  3\n",
      "1  is equal to  1\n"
     ]
    }
   ],
   "source": [
    "def chained_cond(x, y):\n",
    "    if x < y:\n",
    "        print x, ' is less than ', y\n",
    "    elif x > y:\n",
    "        print x, ' is greater than ', y\n",
    "    else:\n",
    "        print x, ' is equal to ', y\n",
    "chained_cond(1,3)\n",
    "chained_cond(5,3)\n",
    "chained_cond(1,1)"
   ]
  },
  {
   "cell_type": "code",
   "execution_count": 91,
   "metadata": {
    "collapsed": false
   },
   "outputs": [
    {
     "name": "stdout",
     "output_type": "stream",
     "text": [
      "less\n",
      "greater\n",
      "equal\n"
     ]
    }
   ],
   "source": [
    "def nested_cond(x,y):\n",
    "    if x == y:\n",
    "        print 'equal'\n",
    "    else:\n",
    "        if x < y:\n",
    "            print 'less'\n",
    "        else:\n",
    "            print 'greater'\n",
    "            \n",
    "nested_cond(1,2)\n",
    "nested_cond(3,2)\n",
    "nested_cond(4,4)"
   ]
  },
  {
   "cell_type": "markdown",
   "metadata": {},
   "source": [
    "### Exercise 3  \n",
    "\n",
    "Fermat’s Last Theorem says that there are no positive integers a, b, and c such that $a^n + b^n = c^n$ for any values of n greater than 2.\n",
    "\n",
    "(a) Write a function named `check_fermat` that takes four parameters—a, b, c and n—and that checks to see if Fermat’s theorem holds. If n is greater than 2 and it turns out to be true that\n",
    "$a^n + b^n = c^n$ the program should print, \"Holy smokes, Fermat was wrong!\" Otherwise the program should print, \"No, that doesn’t work.\""
   ]
  },
  {
   "cell_type": "code",
   "execution_count": 92,
   "metadata": {
    "collapsed": false
   },
   "outputs": [
    {
     "name": "stdout",
     "output_type": "stream",
     "text": [
      "No, that doesn’t work.\n"
     ]
    }
   ],
   "source": [
    "def check_fermat(a, b, c, n):\n",
    "    if n>2:\n",
    "        if a**n+b**n==c**n:\n",
    "            print 'Holy smokes, Fermat was wrong!'\n",
    "        else:\n",
    "            print \"No, that doesn’t work.\"\n",
    "    else:\n",
    "        if a**n+b**n==c**n:\n",
    "            print 'an+bn=cn'\n",
    "        else:\n",
    "            print \"No, that doesn’t work.\"\n",
    "check_fermat(1, 2, 3, 4)"
   ]
  },
  {
   "cell_type": "markdown",
   "metadata": {},
   "source": [
    "(b) Write a function that prompts the user to input values for a, b, c and n, converts them to integers, and uses check_fermat to check whether they violate Fermat’s theorem."
   ]
  },
  {
   "cell_type": "code",
   "execution_count": null,
   "metadata": {
    "collapsed": true
   },
   "outputs": [],
   "source": [
    "def choose_fermat_vals():\n",
    "    a = int(raw_input('please input a value for a'))\n",
    "    b = int(raw_input('please input a value for b'))\n",
    "    c = int(raw_input('please input a value for c'))\n",
    "    n = int(raw_input('please input a value for n'))\n",
    "    check_fermat(a,b,c,n)\n",
    "    \n",
    "choose_fermat_vals()\n"
   ]
  },
  {
   "cell_type": "markdown",
   "metadata": {},
   "source": [
    "### Exercise 4  \n",
    "\n",
    "If you are given three sticks, you may or may not be able to arrange them in a triangle. For example, if one of the sticks is 12 inches long and the other two are one inch long, it is clear that you will not be able to get the short sticks to meet in the middle. For any three lengths, there is a simple test to see if it is possible to form a triangle:\n",
    "> If any of the three lengths is greater than the sum of the other two, then you cannot form a triangle. Otherwise, you can. (If the sum of two lengths equals the third, they form what is called a “degenerate” triangle.)\n",
    "\n",
    "(a) Write a function named `is_triangle` that takes three integers as arguments, and that prints either \"Yes\" or \"No,\" depending on whether you can or cannot form a triangle from sticks with the given lengths."
   ]
  },
  {
   "cell_type": "code",
   "execution_count": null,
   "metadata": {
    "collapsed": false
   },
   "outputs": [],
   "source": [
    "def is_triangle(a, b, c):\n",
    "    if a >= b and a >= c:\n",
    "        if b + c >= a:\n",
    "            print 'Yes'\n",
    "        else:\n",
    "            print \"No\"\n",
    "    elif b >= a and b >= c:\n",
    "        if a + c >= b:\n",
    "            print 'Yes'\n",
    "        else:\n",
    "            print 'No'\n",
    "    else:\n",
    "        if a + b >= c:\n",
    "            print 'Yes'\n",
    "        else:\n",
    "            print 'No'\n",
    "            \n",
    "is_triangle(1,2,3)\n",
    "is_triangle(1,1,12)\n",
    "is_triangle(5,1,5)\n",
    "    "
   ]
  },
  {
   "cell_type": "markdown",
   "metadata": {},
   "source": [
    "(b) Write a function that prompts the user to input three stick lengths, converts them to integers, and uses is_triangle to check whether sticks with the given lengths can form a triangle."
   ]
  },
  {
   "cell_type": "code",
   "execution_count": null,
   "metadata": {
    "collapsed": false
   },
   "outputs": [],
   "source": [
    "def pick_sides():\n",
    "    a = int(raw_input('choose a stick length'))\n",
    "    b = int(raw_input('choose a stick length'))\n",
    "    c = int(raw_input('choose a stick length'))\n",
    "    is_triangle(a,b,c)\n",
    "pick_sides()"
   ]
  },
  {
   "cell_type": "markdown",
   "metadata": {},
   "source": [
    "## Notes for the Instructors\n",
    "\n",
    "Please use the space below to write comments to help us plan the next class session.  For instance, if you want to see us go over an example of a particular type of problem, you can indicate that here.\n",
    "\n",
    "Please remember that the best way to get quick feedback from the instructors as well as your peers, is to use Piazza.  However, consider using this channel if it doesn't make sense to post your note to Piazza."
   ]
  },
  {
   "cell_type": "markdown",
   "metadata": {},
   "source": []
  }
 ],
 "metadata": {
  "kernelspec": {
   "display_name": "Python 2",
   "language": "python",
   "name": "python2"
  },
  "language_info": {
   "codemirror_mode": {
    "name": "ipython",
    "version": 2
   },
   "file_extension": ".py",
   "mimetype": "text/x-python",
   "name": "python",
   "nbconvert_exporter": "python",
   "pygments_lexer": "ipython2",
   "version": "2.7.6"
  }
 },
 "nbformat": 4,
 "nbformat_minor": 0
}

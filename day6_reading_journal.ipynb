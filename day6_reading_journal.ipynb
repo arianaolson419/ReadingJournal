{
 "cells": [
  {
   "cell_type": "markdown",
   "metadata": {},
   "source": [
    "# Day 6 Reading Journal\n",
    "\n",
    "This journal includes several required exercises, but it is meant to encourage active reading more generally.  You should use the journal to take detailed notes, catalog questions, and explore the content from Think Python deeply.\n",
    "\n",
    "Reading: Think Python Chapter 5.8-5.14, 6.5-6.11\n",
    "\n",
    "**Due: Thursday, February 11 at 12 noon**\n",
    "\n"
   ]
  },
  {
   "cell_type": "markdown",
   "metadata": {},
   "source": [
    "## [Chapter 5.8 - 5.14](http://www.greenteapress.com/thinkpython/html/thinkpython006.html)\n",
    "\n",
    "[Python Tutor](http://pythontutor.com/) can be helpful for visualizing stack diagrams, including for recursive execution.\n",
    "\n",
    "Chapter 5 leads into Chapter 6, and all the required exercises for this reading are in the Chapter 6 section.\n",
    "\n"
   ]
  },
  {
   "cell_type": "markdown",
   "metadata": {},
   "source": [
    "## [Chapter 6.5 - 6.11](http://www.greenteapress.com/thinkpython/html/thinkpython007.html)"
   ]
  },
  {
   "cell_type": "markdown",
   "metadata": {
    "is_question": true,
    "problem": "Exercise 6.4"
   },
   "source": [
    "### Exercise 4  \n",
    "\n",
    "Draw a stack diagram for the following program. What does the program print? \n",
    "\n",
    "You can do this on paper, using [Python Tutor](http://pythontutor.com/), or with [Lumpy](http://www.greenteapress.com/thinkpython/swampy/) as used in [Allen's solution](http://thinkpython.com/code/stack_diagram.py)."
   ]
  },
  {
   "cell_type": "code",
   "execution_count": 8,
   "metadata": {
    "collapsed": false,
    "solution": "Exercise 6.4"
   },
   "outputs": [
    {
     "name": "stdout",
     "output_type": "stream",
     "text": [
      "8100\n"
     ]
    },
    {
     "data": {
      "text/plain": [
       "'lumpy.object_diagram()'"
      ]
     },
     "execution_count": 8,
     "metadata": {},
     "output_type": "execute_result"
    }
   ],
   "source": [
    "'''from swampy.Lumpy import Lumpy\n",
    "lumpy = Lumpy()\n",
    "lumpy.make_reference()'''\n",
    "\n",
    "def b(z):\n",
    "    prod = a(z, z)\n",
    "    #print z, prod\n",
    "    return prod\n",
    "\n",
    "def a(x, y):\n",
    "    x = x + 1\n",
    "    return x * y\n",
    "\n",
    "def c(x, y, z):\n",
    "    total = x + y + z\n",
    "    square = b(total)**2\n",
    "    return square\n",
    "\n",
    "x = 1\n",
    "y = x + 1\n",
    "print c(x, y+3, x+y)\n",
    "\n",
    "'''lumpy.object_diagram()'''"
   ]
  },
  {
   "cell_type": "markdown",
   "metadata": {},
   "source": [
    "The program prints the product of the total and the total plus one all squared\n",
    "((x+y+z)*(x+y+z+1))^2\n",
    "stack diagram:\n",
    "https://drive.google.com/open?id=0Bye8F8jddCe-ekR4clZtNXlrUlZsUnE4bjZaTTNoUnQwbGRr"
   ]
  },
  {
   "cell_type": "markdown",
   "metadata": {
    "is_question": true,
    "problem": "Exercise 6.6"
   },
   "source": [
    "### Exercise 6  \n",
    "\n",
    "A palindrome is a word that is spelled the same backward and forward, like “noon” and “redivider”. Recursively, a word is a palindrome if the first and last letters are the same and the middle is a palindrome.\n",
    "\n",
    "You can use the `first`, `last`, and `middle` helper functions defined in Think Python, or do the string slices inside your function directly. Be sure to think about your base cases.\n",
    "    \n",
    "Write a function called `is_palindrome` that takes a string argument and returns `True` if it is a palindrome and `False` otherwise. Remember that you can use the built-in function `len` to check the length of a string.\n",
    "\n",
    "Write some unit tests for your function (optionally using doctest) to show that it works as intended."
   ]
  },
  {
   "cell_type": "code",
   "execution_count": 25,
   "metadata": {
    "collapsed": false,
    "solution": "Exercise 6.6"
   },
   "outputs": [
    {
     "name": "stdout",
     "output_type": "stream",
     "text": [
      "True\n",
      "False\n",
      "Trying:\n",
      "    is_palindrome('redivider')\n",
      "Expecting:\n",
      "    True\n",
      "ok\n",
      "Trying:\n",
      "    is_palindrome('banana')\n",
      "Expecting:\n",
      "    False\n",
      "ok\n",
      "Trying:\n",
      "    is_palindrome(' ')\n",
      "Expecting:\n",
      "    True\n",
      "ok\n",
      "7 items had no tests:\n",
      "    __main__.a\n",
      "    __main__.b\n",
      "    __main__.c\n",
      "    __main__.first\n",
      "    __main__.is_palindrome\n",
      "    __main__.last\n",
      "    __main__.middle\n",
      "1 items passed all tests:\n",
      "   3 tests in __main__\n",
      "3 tests in 8 items.\n",
      "3 passed and 0 failed.\n",
      "Test passed.\n"
     ]
    },
    {
     "data": {
      "text/plain": [
       "TestResults(failed=0, attempted=3)"
      ]
     },
     "execution_count": 25,
     "metadata": {},
     "output_type": "execute_result"
    }
   ],
   "source": [
    "'''returns the first letter of a word\n",
    "\n",
    ">>> first('ariana')\n",
    "'a'\n",
    "\n",
    "'''\n",
    "def first(word):\n",
    "    return word[0]\n",
    "'''returns the last letter of a word\n",
    "\n",
    ">>> last('ariana')\n",
    "'a'\n",
    "\n",
    "'''\n",
    "def last(word):\n",
    "    return word[-1]\n",
    "'''returns the word with the first and last letters removed\n",
    "\n",
    ">>> middle('ariana')\n",
    "'rian'\n",
    "\n",
    "'''\n",
    "def middle(word):\n",
    "    return word[1:-1]\n",
    "'''checks recursively if a word is a palindrome\n",
    "\n",
    ">>> is_palindrome('redivider')\n",
    "True\n",
    ">>> is_palindrome('banana')\n",
    "False\n",
    ">>> is_palindrome('')\n",
    "True\n",
    "\n",
    "\n",
    "'''\n",
    "def is_palindrome(word):\n",
    "    if len(word) == 0:\n",
    "        return True\n",
    "    else:\n",
    "        if last(word) == first(word):\n",
    "            #slices the forst and last letters off the word and checks if that's a palindrome\n",
    "            return is_palindrome(middle(word)) \n",
    "        else: \n",
    "            return False\n",
    "is_palindrome('apple')\n",
    "\n",
    "print is_palindrome('redivider')\n",
    "print is_palindrome('banana')\n",
    "import doctest\n",
    "doctest.testmod(verbose = True)"
   ]
  },
  {
   "cell_type": "markdown",
   "metadata": {
    "is_question": true,
    "problem": "Exercise 6.6 challenge"
   },
   "source": [
    "### Challenge (optional)\n",
    "\n",
    "Use the word list from [Chapter 9.1](http://www.greenteapress.com/thinkpython/html/thinkpython010.html) Exercise 1 to find all of the palindromes."
   ]
  },
  {
   "cell_type": "code",
   "execution_count": 35,
   "metadata": {
    "collapsed": false,
    "solution": "Exercise 6.6 challenge"
   },
   "outputs": [],
   "source": [
    "#I can't figure out how to access the words list from the notebook\n"
   ]
  },
  {
   "cell_type": "markdown",
   "metadata": {
    "is_question": true,
    "problem": "Exercise 6.7"
   },
   "source": [
    "### Exercise 7  \n",
    "\n",
    "A number `a` is a power of `b` if it is divisible by `b` and `a/b` is a power of `b`. Write a function called `is_power` that takes parameters `a` and `b` and returns `True` if `a` is a power of `b`. Note: you will have to think about the base case."
   ]
  },
  {
   "cell_type": "code",
   "execution_count": 58,
   "metadata": {
    "collapsed": false,
    "solution": "Exercise 6.7"
   },
   "outputs": [
    {
     "name": "stdout",
     "output_type": "stream",
     "text": [
      "True\n",
      "Trying:\n",
      "    is_power(1, 7)\n",
      "Expecting:\n",
      "    True\n",
      "ok\n",
      "Trying:\n",
      "    is_power(2, 0)\n",
      "Expecting:\n",
      "    False\n",
      "ok\n",
      "Trying:\n",
      "    is_power(0,0)\n",
      "Expecting:\n",
      "    True\n",
      "ok\n",
      "Trying:\n",
      "    is_power(1, 0)\n",
      "Expecting:\n",
      "    True\n",
      "ok\n",
      "Trying:\n",
      "    is_power(32, 2)\n",
      "Expecting:\n",
      "    True\n",
      "ok\n",
      "Trying:\n",
      "    is_power(45, 3)\n",
      "Expecting:\n",
      "    False\n",
      "ok\n",
      "8 items had no tests:\n",
      "    __main__.a\n",
      "    __main__.b\n",
      "    __main__.c\n",
      "    __main__.first\n",
      "    __main__.is_palindrome\n",
      "    __main__.is_power\n",
      "    __main__.last\n",
      "    __main__.middle\n",
      "1 items passed all tests:\n",
      "   6 tests in __main__\n",
      "6 tests in 9 items.\n",
      "6 passed and 0 failed.\n",
      "Test passed.\n"
     ]
    },
    {
     "data": {
      "text/plain": [
       "TestResults(failed=0, attempted=6)"
      ]
     },
     "execution_count": 58,
     "metadata": {},
     "output_type": "execute_result"
    }
   ],
   "source": [
    "'''checks if a is a power of b\n",
    "\n",
    ">>> is_power(1, 7)\n",
    "True\n",
    ">>> is_power(2, 0)\n",
    "False\n",
    ">>> is_power(0,0)\n",
    "True\n",
    ">>> is_power(1, 0)\n",
    "True\n",
    ">>> is_power(32, 2)\n",
    "True\n",
    ">>> is_power(45, 3)\n",
    "False\n",
    "\n",
    "'''\n",
    "def is_power(a, b):\n",
    "    if a == 1:\n",
    "        #any number to the zeroth power is 1\n",
    "        return True\n",
    "    #because we can't divide by 0, need a special case\n",
    "    elif b == 0:\n",
    "        if a == 0:\n",
    "            #0 to the power of anything but 0 is 0\n",
    "            return True\n",
    "        else:\n",
    "            #all powers of zero are zero or one (following convention 0^0=1)\n",
    "            return False\n",
    "    else:\n",
    "        if a/b == float(a)/float(b):\n",
    "            new_a = a/b\n",
    "            return is_power(new_a, b)\n",
    "        else:\n",
    "            return False\n",
    "print is_power(25, 5)\n",
    "import doctest\n",
    "doctest.testmod(verbose = True)"
   ]
  },
  {
   "cell_type": "markdown",
   "metadata": {
    "is_question": true,
    "problem": "Exercise 6.8"
   },
   "source": [
    "### Challenge (optional) - Exercise 8  \n",
    "\n",
    "The greatest common divisor (GCD) of `a` and `b` is the largest number that divides both of them with no remainder.\n",
    "\n",
    "One way to find the GCD of two numbers is based on the observation that if `r` is the remainder when `a` is divided by `b`, then `gcd(a, b) = gcd(b, r)`. As a base case, we can use `gcd(a, 0) = a`.\n",
    "\n",
    "Write a function called `gcd` that takes parameters `a` and `b` and returns their greatest common divisor."
   ]
  },
  {
   "cell_type": "code",
   "execution_count": 61,
   "metadata": {
    "collapsed": false,
    "problem": "Exercise 6.8"
   },
   "outputs": [
    {
     "name": "stdout",
     "output_type": "stream",
     "text": [
      "5\n"
     ]
    }
   ],
   "source": [
    "def gcd(a, b):\n",
    "    if b == 0:\n",
    "        return a\n",
    "    else:\n",
    "        r = a%b\n",
    "        return gcd(b, r)\n",
    "print gcd(35, 15)"
   ]
  },
  {
   "cell_type": "markdown",
   "metadata": {},
   "source": [
    "## Reading Journal feedback\n",
    "\n",
    "Have any comments on this Reading Journal? Feel free to leave them below and we'll read them when you submit your journal entry. This could include suggestions to improve the exercises, topics you'd like to see covered in class next time, or other feedback.\n",
    "\n",
    "If you have Python questions or run into problems while completing the reading, you should post them to Piazza instead so you can get a quick response before your journal is submitted."
   ]
  },
  {
   "cell_type": "markdown",
   "metadata": {
    "feedback_response": true
   },
   "source": [
    " "
   ]
  }
 ],
 "metadata": {
  "kernelspec": {
   "display_name": "Python 2",
   "language": "python",
   "name": "python2"
  },
  "language_info": {
   "codemirror_mode": {
    "name": "ipython",
    "version": 2
   },
   "file_extension": ".py",
   "mimetype": "text/x-python",
   "name": "python",
   "nbconvert_exporter": "python",
   "pygments_lexer": "ipython2",
   "version": "2.7.6"
  }
 },
 "nbformat": 4,
 "nbformat_minor": 0
}

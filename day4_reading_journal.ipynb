{
 "cells": [
  {
   "cell_type": "markdown",
   "metadata": {},
   "source": [
    "# Day 4 Reading Journal\n",
    "\n",
    "This journal includes several required exercises, but it is meant to encourage active reading more generally.  You should use the journal to take detailed notes, catalog questions, and explore the content from Think Python deeply.\n",
    "\n",
    "Reading: Think Python Chapter 10\n",
    "\n",
    "**Due: Thursday, February 4 at 12 noon**\n",
    "\n"
   ]
  },
  {
   "cell_type": "markdown",
   "metadata": {},
   "source": [
    "## [Chapter 10](http://www.greenteapress.com/thinkpython/html/thinkpython011.html)\n",
    "\n",
    "You may want to review [state diagrams in Chapter 2](http://www.greenteapress.com/thinkpython/html/thinkpython003.html#toc13). [Python Tutor](http://pythontutor.com/) is also helpful for visualizing the state of your program.\n",
    "\n"
   ]
  },
  {
   "cell_type": "markdown",
   "metadata": {},
   "source": [
    "### Exercise 4  \n",
    "Write a function called `middle` that takes a list and returns a new list that contains all but the first and last elements. So `middle([1,2,3,4])` should return `[2,3]`."
   ]
  },
  {
   "cell_type": "code",
   "execution_count": 10,
   "metadata": {
    "collapsed": false
   },
   "outputs": [
    {
     "name": "stdout",
     "output_type": "stream",
     "text": [
      "[2, 7, 1]\n"
     ]
    }
   ],
   "source": [
    "def middle(list):\n",
    "    new_list = list[1:len(list)-1]\n",
    "    return new_list\n",
    "print middle([9,2,7,1,4])"
   ]
  },
  {
   "cell_type": "markdown",
   "metadata": {},
   "source": [
    "### Exercise 5  \n",
    "Write a function called `chop` that takes a list, modifies it by removing the first and last elements, and returns `None`.\n",
    "\n",
    "What is the difference between `middle` and `chop`? Sketch out the program state or take a look at each in Python Tutor."
   ]
  },
  {
   "cell_type": "code",
   "execution_count": 14,
   "metadata": {
    "collapsed": false
   },
   "outputs": [
    {
     "name": "stdout",
     "output_type": "stream",
     "text": [
      "[7]\n"
     ]
    }
   ],
   "source": [
    "def chop(list):\n",
    "    return list[1:len(list)-1]\n",
    "print chop([6, 7, 1])"
   ]
  },
  {
   "cell_type": "markdown",
   "metadata": {},
   "source": [
    "middle creates a new list while chop modifies the input list. One is free to use the original list in middle easily, while the list in chop loses information"
   ]
  },
  {
   "cell_type": "markdown",
   "metadata": {},
   "source": [
    "### Exercise 7  \n",
    "Two words are anagrams if you can rearrange the letters from one to spell the other. Write a function called `is_anagram` that takes two strings and returns `True` if they are anagrams."
   ]
  },
  {
   "cell_type": "code",
   "execution_count": 25,
   "metadata": {
    "collapsed": false
   },
   "outputs": [
    {
     "name": "stdout",
     "output_type": "stream",
     "text": [
      "False\n",
      "False\n",
      "True\n"
     ]
    }
   ],
   "source": [
    "def is_anagram(word1, word2):\n",
    "    if type(word1) == str and type(word2) == str:\n",
    "        if len(word1) == len(word2):\n",
    "            for c in word1:\n",
    "                if c not in word2:\n",
    "                    return False\n",
    "        else:\n",
    "            return False\n",
    "        return True\n",
    "    else:\n",
    "        return False\n",
    " \n",
    "print is_anagram('banana', 1)\n",
    "print is_anagram('apple', 'pear')\n",
    "print is_anagram('banana', 'ananab')\n",
    "\n"
   ]
  },
  {
   "cell_type": "markdown",
   "metadata": {},
   "source": [
    "### Exercise 8  \n",
    "The (so-called) Birthday Paradox:\n",
    "1. Write a function called `has_duplicates` that takes a list and returns `True` if there is any element that appears more than once. It should not modify the original list.\n",
    "2. If there are 23 students in your class, what are the chances that two of you have the same birthday? You can estimate this probability by generating random samples of 23 birthdays and checking for matches. Hint: you can generate random birthdays with the randint function in the [random module](https://docs.python.org/2/library/random.html).\n",
    "\n",
    "You can read about this problem at http://en.wikipedia.org/wiki/Birthday_paradox, and you can download Allen's solution from http://thinkpython.com/code/birthday.py."
   ]
  },
  {
   "cell_type": "code",
   "execution_count": 22,
   "metadata": {
    "collapsed": false
   },
   "outputs": [
    {
     "name": "stdout",
     "output_type": "stream",
     "text": [
      "0.044\n",
      "0.4442\n",
      "0.5409\n",
      "0.902\n"
     ]
    }
   ],
   "source": [
    "import random\n",
    "\n",
    "'''Function returns True if duplicate items exist in a list'''\n",
    "def has_duplicates(a_list):\n",
    "    i = 0\n",
    "    #chooses one element of the list\n",
    "    while i < len(a_list):\n",
    "        j=0\n",
    "        element = a_list[i]\n",
    "        count = 0\n",
    "        #counts the number of occurences of that element in the list\n",
    "        while j<len(a_list):\n",
    "            if element == a_list[j]:\n",
    "                count += 1\n",
    "                #if there are more than 1, returns True\n",
    "                if count > 1:\n",
    "                    return True\n",
    "            j+=1\n",
    "        i += 1\n",
    "    #returns False if no element is repeated in the list\n",
    "    return False\n",
    "        \n",
    "     \n",
    "            \n",
    "\n",
    "\n",
    "'''Function to determine if there is a duplicate in a list of birthdays\n",
    "Birthdays are numbered 1-365 and chosen randomly'''\n",
    "def duplicate_bday(class_size):\n",
    "    birthday_list = []\n",
    "    #randomly picks birthdays in range 1-365\n",
    "    for i in range(class_size+1):\n",
    "        birthday = random.randint(1, 365)\n",
    "        birthday_list.append(birthday)\n",
    "    return has_duplicates(birthday_list)\n",
    "\n",
    "\n",
    "'''Function to count number of Trues and return experimental probability \n",
    "that two people in the class have the same birthday (Trues/iterations) \n",
    "23 is apparently the minimum number of people to have a probability of\n",
    "50% or greater--let's see if that's true!'''\n",
    "\n",
    "def prob_same(iterations, class_size):\n",
    "    count = 0\n",
    "    #counts number of Trues (occurances of duplicate birthdays)\n",
    "    for i in range(iterations+1):\n",
    "        if duplicate_bday(class_size) == True:\n",
    "            count += 1\n",
    "    return float(count)/iterations\n",
    "\n",
    "print prob_same(10000, 5)\n",
    "print prob_same(10000, 20)\n",
    "print prob_same(10000,23)\n",
    "print prob_same(10000, 40)"
   ]
  },
  {
   "cell_type": "code",
   "execution_count": 4,
   "metadata": {
    "collapsed": false
   },
   "outputs": [
    {
     "name": "stdout",
     "output_type": "stream",
     "text": [
      "True\n"
     ]
    }
   ],
   "source": [
    "import random\n",
    "'''Function to determine if there is a duplicate in a list of birthdays\n",
    "Birthdays are numbered 1-365 and chosen randomly'''\n",
    "def generate_bday(class_size):\n",
    "    birthday_list = []\n",
    "    #randomly picks birthdays in range 1-365\n",
    "    for i in range(class_size+1):\n",
    "        birthday = random.randint(1, 365)\n",
    "        birthday_list.append(birthday)\n",
    "    return has_duplicates(birthday_list)\n",
    "\n",
    "print generate_bday(10)\n"
   ]
  },
  {
   "cell_type": "markdown",
   "metadata": {},
   "source": [
    "### Challenge: Exercise 11 (optional)\n",
    "\n",
    "You should read [Chapter 9.1](http://www.greenteapress.com/thinkpython/html/thinkpython010.html) and do Exercise 1 first.\n",
    "\n",
    "To check whether a word is in the word list, you could use the `in` operator, but it would be relatively slow because it searches through the words in order (try it).\n",
    "\n",
    "Because the words are in alphabetical order, we can speed things up with a bisection search (also known as binary search), which is similar to what you do when you look a word up in the dictionary. You start in the middle and check to see whether the word you are looking for comes before the word in the middle of the list. If so, then you search the first half of the list the same way. Otherwise you search the second half.\n",
    "\n",
    "Either way, you cut the remaining search space in half. If the word list has 113,809 words, it will take about 17 steps to find the word or conclude that it’s not there.\n",
    "\n",
    "Write a function called `bisect` that takes a sorted list and a target value and returns the index of the value in the list, if it’s there, or `None` if it’s not.\n",
    "\n",
    "Or you could read the documentation of the `bisect` module and use that! Solution: http://thinkpython.com/code/inlist.py."
   ]
  },
  {
   "cell_type": "code",
   "execution_count": 1,
   "metadata": {
    "collapsed": false
   },
   "outputs": [
    {
     "ename": "SyntaxError",
     "evalue": "invalid syntax (<ipython-input-1-e35cb01b07ea>, line 1)",
     "output_type": "error",
     "traceback": [
      "\u001b[1;36m  File \u001b[1;32m\"<ipython-input-1-e35cb01b07ea>\"\u001b[1;36m, line \u001b[1;32m1\u001b[0m\n\u001b[1;33m    from http://thinkpython.com/code/words.txt import words.txt\u001b[0m\n\u001b[1;37m             ^\u001b[0m\n\u001b[1;31mSyntaxError\u001b[0m\u001b[1;31m:\u001b[0m invalid syntax\n"
     ]
    }
   ],
   "source": [
    "from http://thinkpython.com/code/words.txt import words.txt\n",
    "#how do we download this file?"
   ]
  },
  {
   "cell_type": "code",
   "execution_count": 3,
   "metadata": {
    "collapsed": false
   },
   "outputs": [
    {
     "ename": "IOError",
     "evalue": "[Errno 2] No such file or directory: 'words.txt'",
     "output_type": "error",
     "traceback": [
      "\u001b[1;31m---------------------------------------------------------------------------\u001b[0m",
      "\u001b[1;31mIOError\u001b[0m                                   Traceback (most recent call last)",
      "\u001b[1;32m<ipython-input-3-ac8131924cea>\u001b[0m in \u001b[0;36m<module>\u001b[1;34m()\u001b[0m\n\u001b[1;32m----> 1\u001b[1;33m \u001b[0mopen\u001b[0m\u001b[1;33m(\u001b[0m\u001b[1;34m'words.txt'\u001b[0m\u001b[1;33m)\u001b[0m\u001b[1;33m\u001b[0m\u001b[0m\n\u001b[0m",
      "\u001b[1;31mIOError\u001b[0m: [Errno 2] No such file or directory: 'words.txt'"
     ]
    }
   ],
   "source": [
    "open('words.txt')"
   ]
  },
  {
   "cell_type": "markdown",
   "metadata": {},
   "source": [
    "## Reading Journal feedback\n",
    "\n",
    "Have any comments on this Reading Journal? Feel free to leave them below and we'll read them when you submit your journal entry. This could include suggestions to improve the exercises, topics you'd like to see covered in class next time, or other feedback.\n",
    "\n",
    "If you have Python questions or run into problems while completing the reading, you should post them to Piazza instead so you can get a quick response before your journal is submitted."
   ]
  },
  {
   "cell_type": "markdown",
   "metadata": {},
   "source": [
    " "
   ]
  }
 ],
 "metadata": {
  "kernelspec": {
   "display_name": "Python 2",
   "language": "python",
   "name": "python2"
  },
  "language_info": {
   "codemirror_mode": {
    "name": "ipython",
    "version": 2
   },
   "file_extension": ".py",
   "mimetype": "text/x-python",
   "name": "python",
   "nbconvert_exporter": "python",
   "pygments_lexer": "ipython2",
   "version": "2.7.6"
  }
 },
 "nbformat": 4,
 "nbformat_minor": 0
}

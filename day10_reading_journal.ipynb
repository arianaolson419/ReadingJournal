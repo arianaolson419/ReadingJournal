{
 "cells": [
  {
   "cell_type": "markdown",
   "metadata": {},
   "source": [
    "# Day 10 Reading Journal\n",
    "\n",
    "This journal includes several required exercises, but it is meant to encourage active reading more generally.  You should use the journal to take detailed notes, catalog questions, and explore the content from Think Python deeply.\n",
    "\n",
    "Reading: Think Python Chapter 16, 17\n",
    "\n",
    "**Due: Thursday, February 25 at 12 noon**\n",
    "\n"
   ]
  },
  {
   "cell_type": "markdown",
   "metadata": {},
   "source": [
    "## [Chapter 16](http://www.greenteapress.com/thinkpython/html/thinkpython017.html)\n"
   ]
  },
  {
   "cell_type": "markdown",
   "metadata": {
    "is_question": true,
    "problem": "Exercise 16.2"
   },
   "source": [
    "### Exercise 2  \n",
    "\n",
    "Write a boolean function called `is_after` that takes two `Time` objects, `t1` and `t2`, and returns `True` if `t1` follows `t2` chronologically and `False` otherwise. Challenge: don’t use an `if` statement. "
   ]
  },
  {
   "cell_type": "code",
   "execution_count": 15,
   "metadata": {
    "collapsed": false,
    "solution": "Exercise 16.2"
   },
   "outputs": [],
   "source": [
    "class Time(object):\n",
    "    '''Represents the time of day\n",
    "    attributes: hour, minute, second'''\n",
    "\n",
    "    \n",
    "def is_after(t1, t2):\n",
    "    '''returns True if t1 chronologically follows t2, False if t2 follows t1, and None if the times are equal\n",
    "    >>> time1 = Time()\n",
    "    >>> time2 = Time()\n",
    "    >>> time1.hour = 10\n",
    "    >>> time1.minute = 20\n",
    "    >>> time1.second = 45\n",
    "    >>> time2.hour = 10\n",
    "    >>> time2.minute = 20\n",
    "    >>> time2.second = 45\n",
    "    >>> print is_after(time1, time2)\n",
    "    these two times are equal\n",
    "    None\n",
    "    >>> time1.second += 1\n",
    "    >>> print is_after(time1, time2)\n",
    "    True\n",
    "    >>> time2.hour += 1\n",
    "    >>> print is_after(time1, time2)\n",
    "    False\n",
    "    '''\n",
    "    if t1.hour > t2.hour:\n",
    "        return True\n",
    "    elif t1.hour < t2.hour:\n",
    "        return False\n",
    "    else:\n",
    "        if t1.minute > t2.minute:\n",
    "            return True\n",
    "        elif t1.minute < t2.minute:\n",
    "            return False\n",
    "        else:\n",
    "            if t1.second > t2.second:\n",
    "                return True\n",
    "            elif t2.second < t2.second:\n",
    "                return False\n",
    "            else:\n",
    "                print 'these two times are equal'\n",
    "                return None\n",
    "\n",
    "def time_to_int(time):\n",
    "    minutes = time.hour * 60 + time.minute\n",
    "    seconds = minutes * 60 + time.second\n",
    "    return seconds\n",
    "def is_after2(t1, t2):\n",
    "    '''uses a much more concise approach to determining if t1 chronologically follows t2 without if statements\n",
    "     >>> time1 = Time()\n",
    "    >>> time2 = Time()\n",
    "    >>> time1.hour = 10\n",
    "    >>> time1.minute = 20\n",
    "    >>> time1.second = 45\n",
    "    >>> time2.hour = 10\n",
    "    >>> time2.minute = 20\n",
    "    >>> time2.second = 45\n",
    "    >>> print is_after2(time1, time2)\n",
    "    False\n",
    "     >>> time1.second += 1\n",
    "    >>> print is_after2(time1, time2)\n",
    "    True\n",
    "    >>> time2.hour += 1\n",
    "    >>> print is_after2(time1, time2)\n",
    "    False\n",
    "    '''\n",
    "    return time_to_int(t1) > time_to_int(t2)\n",
    "            \n",
    "if __name__ == '__main__':\n",
    "    import doctest\n",
    "    doctest.testmod()\n",
    "    "
   ]
  },
  {
   "cell_type": "markdown",
   "metadata": {},
   "source": [
    "## [Chapter 17](http://www.greenteapress.com/thinkpython/html/thinkpython018.html)\n",
    "\n",
    "In chapter 17 we finally have the tools to really put user-defined classes to work! In the exercises for this reading journal, we'll go back and add methods to your `Point` class from Chapter 15 to make it a lot easier to use."
   ]
  },
  {
   "cell_type": "markdown",
   "metadata": {
    "is_question": true,
    "problem": "Exercise 17.2"
   },
   "source": [
    "### Exercise 2  \n",
    "\n",
    "Write an init method for the `Point` class that takes `x` and `y` as optional parameters and assigns them to the corresponding attributes. "
   ]
  },
  {
   "cell_type": "code",
   "execution_count": null,
   "metadata": {
    "collapsed": true,
    "solution": "Exercise 17.2"
   },
   "outputs": [],
   "source": [
    "class Point(object):\n",
    "    def __init__(self, x=0, y=0):\n",
    "        self.x = x\n",
    "        self.y = y"
   ]
  },
  {
   "cell_type": "markdown",
   "metadata": {
    "is_question": true,
    "problem": "Exercise 17.3"
   },
   "source": [
    "### Exercise 3  \n",
    "\n",
    "Write a str method for the `Point` class. Create a `Point` object and print it."
   ]
  },
  {
   "cell_type": "code",
   "execution_count": 18,
   "metadata": {
    "collapsed": false,
    "solution": "Exercise 17.3"
   },
   "outputs": [
    {
     "name": "stdout",
     "output_type": "stream",
     "text": [
      "(0,0)\n",
      "(2,4)\n"
     ]
    }
   ],
   "source": [
    "class Point(object):\n",
    "    def __init__(self, x=0, y=0):\n",
    "        self.x = x\n",
    "        self.y = y\n",
    "    def __str__(self):\n",
    "        return '(%d,%d)' % (self.x, self.y)\n",
    "point = Point()\n",
    "print point\n",
    "point2 = Point(2, 4)\n",
    "print point2"
   ]
  },
  {
   "cell_type": "markdown",
   "metadata": {
    "is_question": true,
    "problem": "Exercise 17.4"
   },
   "source": [
    "### Exercise 4  \n",
    "\n",
    "Write an add method for the `Point` class. Optional: implement operator overloading so that you can use the '+' operator."
   ]
  },
  {
   "cell_type": "code",
   "execution_count": 23,
   "metadata": {
    "collapsed": false,
    "solution": "Exercise 17.4"
   },
   "outputs": [
    {
     "name": "stdout",
     "output_type": "stream",
     "text": [
      "(4,-3)\n",
      "(2,4)\n",
      "(6.5, 1)\n"
     ]
    }
   ],
   "source": [
    "class Point(object):\n",
    "    def __init__(self, x=0, y=0):\n",
    "        self.x = x\n",
    "        self.y = y\n",
    "    def __str__(self):\n",
    "        return '(%g,%g)' % (self.x, self.y)\n",
    "    def __add__(self, other):\n",
    "        sum_x = self.x + other.x\n",
    "        sum_y = self.y + other.y\n",
    "        return '(%g, %g)' % (sum_x, sum_y)\n",
    "    \n",
    "        return '(%d,%d)' % (self.x, self.y)\n",
    "point1 = Point(4.5, -3)\n",
    "print point1\n",
    "point2 = Point(2, 4)\n",
    "print point2\n",
    "print point1 + point2"
   ]
  },
  {
   "cell_type": "markdown",
   "metadata": {
    "is_question": true,
    "problem": "Exercise 17.7"
   },
   "source": [
    "### Exercise 7  \n",
    "\n",
    "This exercise is a cautionary tale about one of the most common, and difficult to find, errors in Python. Write a definition for a class named `Kangaroo` with the following methods:\n",
    "\n",
    " 1. An `__init__` method that initializes an attribute named `pouch_contents` to an empty list.\n",
    " 2. A method named `put_in_pouch` that takes an object of any type and adds it to `pouch_contents`.\n",
    " 3. A `__str__` method that returns a string representation of the `Kangaroo` object and the contents of the pouch.\n",
    "\n",
    "Test your code by creating two `Kangaroo` objects, assigning them to variables named `kanga` and `roo`, and then adding `roo` to the contents of `kanga`’s pouch.\n",
    "\n",
    "Download http://thinkpython.com/code/BadKangaroo.py. It contains a solution to the previous problem with one big, nasty bug. Find and fix the bug.\n",
    "\n",
    "If you get stuck, you can download http://thinkpython.com/code/GoodKangaroo.py, which explains the problem and demonstrates a solution. "
   ]
  },
  {
   "cell_type": "code",
   "execution_count": 33,
   "metadata": {
    "collapsed": false,
    "solution": "Exercise 17.7"
   },
   "outputs": [
    {
     "name": "stdout",
     "output_type": "stream",
     "text": [
      "['joey', 1.2, (1, 2)]\n"
     ]
    }
   ],
   "source": [
    "class Kangaroo(object):\n",
    "    def __init__(self, pouch_contents = []):\n",
    "        self.pouch_contents = pouch_contents\n",
    "    def put_in_pouch(self, obj):\n",
    "        self.pouch_contents.append(obj)\n",
    "    def __str__(self):\n",
    "        return str(self.pouch_contents)\n",
    "    \n",
    "pouch = Kangaroo()\n",
    "pouch.put_in_pouch('joey')\n",
    "pouch.put_in_pouch(1.2)\n",
    "pouch.put_in_pouch((1,2))\n",
    "print pouch"
   ]
  },
  {
   "cell_type": "markdown",
   "metadata": {
    "is_question": true,
    "problem": "Time spent"
   },
   "source": [
    "## Quick poll\n",
    "About how long did you spend working on this Reading Journal?"
   ]
  },
  {
   "cell_type": "markdown",
   "metadata": {},
   "source": [
    "45 mins"
   ]
  },
  {
   "cell_type": "markdown",
   "metadata": {
    "poll_response": true,
    "solution": "Time spent"
   },
   "source": [
    " "
   ]
  },
  {
   "cell_type": "markdown",
   "metadata": {
    "is_question": true,
    "problem": "Feedback"
   },
   "source": [
    "## Reading Journal feedback\n",
    "\n",
    "Have any comments on this Reading Journal? Feel free to leave them below and we'll read them when you submit your journal entry. This could include suggestions to improve the exercises, topics you'd like to see covered in class next time, or other feedback.\n",
    "\n",
    "If you have Python questions or run into problems while completing the reading, you should post them to Piazza instead so you can get a quick response before your journal is submitted."
   ]
  },
  {
   "cell_type": "markdown",
   "metadata": {
    "feedback_response": true,
    "solution": "Feedback"
   },
   "source": [
    " "
   ]
  }
 ],
 "metadata": {
  "kernelspec": {
   "display_name": "Python 2",
   "language": "python",
   "name": "python2"
  },
  "language_info": {
   "codemirror_mode": {
    "name": "ipython",
    "version": 2
   },
   "file_extension": ".py",
   "mimetype": "text/x-python",
   "name": "python",
   "nbconvert_exporter": "python",
   "pygments_lexer": "ipython2",
   "version": "2.7.6"
  }
 },
 "nbformat": 4,
 "nbformat_minor": 0
}
